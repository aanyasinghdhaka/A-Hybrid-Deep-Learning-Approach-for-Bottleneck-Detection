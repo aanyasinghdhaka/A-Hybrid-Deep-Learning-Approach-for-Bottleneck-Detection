{
  "nbformat": 4,
  "nbformat_minor": 0,
  "metadata": {
    "colab": {
      "provenance": [],
      "authorship_tag": "ABX9TyNo9dI8SgmpaCitmcvewV68",
      "include_colab_link": true
    },
    "kernelspec": {
      "name": "python3",
      "display_name": "Python 3"
    },
    "language_info": {
      "name": "python"
    }
  },
  "cells": [
    {
      "cell_type": "markdown",
      "metadata": {
        "id": "view-in-github",
        "colab_type": "text"
      },
      "source": [
        "<a href=\"https://colab.research.google.com/github/aanyasinghdhaka/A-Hybrid-Deep-Learning-Approach-for-Bottleneck-Detection/blob/main/Assignment1.ipynb\" target=\"_parent\"><img src=\"https://colab.research.google.com/assets/colab-badge.svg\" alt=\"Open In Colab\"/></a>"
      ]
    },
    {
      "cell_type": "markdown",
      "source": [
        "### DATASET LOADING\n"
      ],
      "metadata": {
        "id": "69cKa5bRT5nq"
      }
    },
    {
      "cell_type": "code",
      "source": [
        "# Load necessary libraries\n",
        "import pandas as pd\n",
        "from sklearn.preprocessing import MinMaxScaler\n",
        "from sklearn.preprocessing import OneHotEncoder\n",
        "\n",
        "\n",
        "# Load your dataset (replace 'your_dataset.csv' with your actual dataset)\n",
        "!wget https://www.dropbox.com/scl/fi/ml4r46364jmkb3s3ggy5z/Datasets.csv?rlkey=hfhdr20cq6cmq6bq4s0j785l7&dl=0"
      ],
      "metadata": {
        "colab": {
          "base_uri": "https://localhost:8080/"
        },
        "id": "2ugcEspw_pXr",
        "outputId": "0fd323d0-08e1-419c-b2da-dcb2ef21965a"
      },
      "execution_count": null,
      "outputs": [
        {
          "output_type": "stream",
          "name": "stdout",
          "text": [
            "--2023-12-08 17:22:07--  https://www.dropbox.com/scl/fi/ml4r46364jmkb3s3ggy5z/Datasets.csv?rlkey=hfhdr20cq6cmq6bq4s0j785l7\n",
            "Resolving www.dropbox.com (www.dropbox.com)... 162.125.8.18, 2620:100:6018:18::a27d:312\n",
            "Connecting to www.dropbox.com (www.dropbox.com)|162.125.8.18|:443... connected.\n",
            "HTTP request sent, awaiting response... 302 Found\n",
            "Location: https://uc1fbeacadbdf32116288e39c5ce.dl.dropboxusercontent.com/cd/0/inline/CJAB517vwTU1Xc51-hSeHPsy7zOQrQxX-233LZUx4qRGCwoAHjmvpd9efaHKE7Glj_HgQ1JbSgbzSxOYTHdZY_gjXW-yXJ5ACEpisW1T6dZH1sySf01l9iZ9esw6VoVdBM8-1vWmaHvaHexOeoCRKxhb/file# [following]\n",
            "--2023-12-08 17:22:08--  https://uc1fbeacadbdf32116288e39c5ce.dl.dropboxusercontent.com/cd/0/inline/CJAB517vwTU1Xc51-hSeHPsy7zOQrQxX-233LZUx4qRGCwoAHjmvpd9efaHKE7Glj_HgQ1JbSgbzSxOYTHdZY_gjXW-yXJ5ACEpisW1T6dZH1sySf01l9iZ9esw6VoVdBM8-1vWmaHvaHexOeoCRKxhb/file\n",
            "Resolving uc1fbeacadbdf32116288e39c5ce.dl.dropboxusercontent.com (uc1fbeacadbdf32116288e39c5ce.dl.dropboxusercontent.com)... 162.125.8.15, 2620:100:6018:15::a27d:30f\n",
            "Connecting to uc1fbeacadbdf32116288e39c5ce.dl.dropboxusercontent.com (uc1fbeacadbdf32116288e39c5ce.dl.dropboxusercontent.com)|162.125.8.15|:443... connected.\n",
            "HTTP request sent, awaiting response... 200 OK\n",
            "Length: 736754 (719K) [text/plain]\n",
            "Saving to: ‘Datasets.csv?rlkey=hfhdr20cq6cmq6bq4s0j785l7.2’\n",
            "\n",
            "Datasets.csv?rlkey= 100%[===================>] 719.49K  --.-KB/s    in 0.09s   \n",
            "\n",
            "2023-12-08 17:22:08 (8.16 MB/s) - ‘Datasets.csv?rlkey=hfhdr20cq6cmq6bq4s0j785l7.2’ saved [736754/736754]\n",
            "\n"
          ]
        }
      ]
    },
    {
      "cell_type": "markdown",
      "source": [
        "##PREPROCESSING"
      ],
      "metadata": {
        "id": "VyL1E31CUO6g"
      }
    },
    {
      "cell_type": "code",
      "execution_count": null,
      "metadata": {
        "colab": {
          "base_uri": "https://localhost:8080/"
        },
        "id": "aQPO8f7r-G4g",
        "outputId": "53fde84a-e8ad-4b33-cf91-925f0d8f073a"
      },
      "outputs": [
        {
          "output_type": "stream",
          "name": "stdout",
          "text": [
            "   Source-Destination  Destination  Port1  IP1  Port2  Value1  Value2  \\\n",
            "0                   0            0   2142    0    443       1    4.28   \n",
            "1                   1            1   2108    1     22       1    3.00   \n",
            "2                   2            1   3805    2     22       1    0.00   \n",
            "3                   3            2   3008    3     25       1    2.96   \n",
            "4                   4            3  11697    4    443       1    0.15   \n",
            "\n",
            "     Value3  Value4      Value5  Value6  Value7       Value8  Value9  Value10  \\\n",
            "0  6.039028    1174  856.833333    1894   11862  27450.72222   12462        0   \n",
            "1  1.500000       0    0.000000     192       0      0.00000       0        0   \n",
            "2  1.500000       0    0.000000      96       0      0.00000       0        0   \n",
            "3  2.021923       0    0.000000      96       0      0.00000       0        0   \n",
            "4  0.159373       0    0.000000      96       0      0.00000      40        0   \n",
            "\n",
            "   Value11  Value12   Value13  Label  \n",
            "0       18       15  0.833333      0  \n",
            "1        4        0  0.000000      1  \n",
            "2        2        0  0.000000      1  \n",
            "3        2        0  0.000000      1  \n",
            "4        2        1  0.500000      1  \n"
          ]
        }
      ],
      "source": [
        "# Load necessary libraries\n",
        "import pandas as pd\n",
        "from sklearn.preprocessing import MinMaxScaler\n",
        "from sklearn.preprocessing import OneHotEncoder\n",
        "\n",
        "# Load the dataset\n",
        "dataset = pd.read_csv('Datasets.csv?rlkey=hfhdr20cq6cmq6bq4s0j785l7')\n",
        "column_names = [\n",
        "    'Source-Destination', 'Destination', 'Port1', 'IP1', 'Port2', 'Value1', 'Value2',\n",
        "    'Value3', 'Value4', 'Value5', 'Value6', 'Value7', 'Value8', 'Value9', 'Value10',\n",
        "    'Value11', 'Value12', 'Value13', 'Label'\n",
        "]\n",
        "dataset.columns = column_names\n",
        "\n",
        "# Example of handling categorical data (you may need different encoding techniques)\n",
        "dataset['Source-Destination'] = pd.factorize(dataset['Source-Destination'])[0]\n",
        "dataset['Destination'] = pd.factorize(dataset['Destination'])[0]\n",
        "dataset['IP1'] = pd.factorize(dataset['IP1'])[0]\n",
        "\n",
        "# Display the preprocessed DataFrame\n",
        "print(dataset.head())\n",
        "import numpy as np  # Add this import line for NumPy\n",
        "\n",
        "# Drop rows with missing or infinite values\n",
        "numeric_cols = dataset.select_dtypes(include=[np.number]).columns.tolist()\n",
        "dataset = dataset[numeric_cols]\n",
        "\n",
        "# Drop rows with missing or infinite values\n",
        "dataset = dataset.replace([np.inf, -np.inf], np.nan).dropna()\n",
        "\n",
        "# Standardize data using MinMaxScaler\n",
        "scaler = MinMaxScaler()\n",
        "scaled_data = scaler.fit_transform(dataset)\n",
        "\n",
        "# Save the processed dataset to a new CSV file\n",
        "processed_data = pd.DataFrame(data=scaled_data, columns=dataset.columns)\n",
        "processed_data.to_csv('processed_data.csv', index=False)\n",
        "\n"
      ]
    },
    {
      "cell_type": "code",
      "source": [
        "processed_data = pd.read_csv('processed_data.csv')\n",
        "\n",
        "# Display the first few rows of the processed data\n",
        "print(processed_data.head())"
      ],
      "metadata": {
        "colab": {
          "base_uri": "https://localhost:8080/"
        },
        "id": "As8AOluoCES_",
        "outputId": "1f33e1cd-cfb1-4299-9be4-af5ebffd45bf"
      },
      "execution_count": null,
      "outputs": [
        {
          "output_type": "stream",
          "name": "stdout",
          "text": [
            "   Source-Destination  Destination     Port1       IP1     Port2  Value1  \\\n",
            "0            0.000000     0.000000  0.031908  0.000000  0.006445     0.0   \n",
            "1            0.000192     0.003597  0.031389  0.000516  0.000015     0.0   \n",
            "2            0.000383     0.003597  0.057310  0.001031  0.000015     0.0   \n",
            "3            0.000575     0.007194  0.045136  0.001547  0.000061     0.0   \n",
            "4            0.000766     0.010791  0.177855  0.002063  0.006445     0.0   \n",
            "\n",
            "     Value2    Value3    Value4    Value5    Value6   Value7    Value8  \\\n",
            "0  0.000194  0.000093  0.007512  0.000806  0.005816  0.00132  0.004469   \n",
            "1  0.000136  0.000023  0.000000  0.000000  0.000590  0.00000  0.000000   \n",
            "2  0.000000  0.000023  0.000000  0.000000  0.000295  0.00000  0.000000   \n",
            "3  0.000134  0.000031  0.000000  0.000000  0.000295  0.00000  0.000000   \n",
            "4  0.000007  0.000002  0.000000  0.000000  0.000295  0.00000  0.000000   \n",
            "\n",
            "     Value9  Value10   Value11   Value12   Value13  Label  \n",
            "0  0.001350      0.0  0.002743  0.002304  0.104167    0.0  \n",
            "1  0.000000      0.0  0.000610  0.000000  0.000000    1.0  \n",
            "2  0.000000      0.0  0.000305  0.000000  0.000000    1.0  \n",
            "3  0.000000      0.0  0.000305  0.000000  0.000000    1.0  \n",
            "4  0.000004      0.0  0.000305  0.000154  0.062500    1.0  \n"
          ]
        }
      ]
    },
    {
      "cell_type": "code",
      "source": [
        "\n",
        "\n",
        "# Assuming 'class' is the name of your target column\n",
        "target_column = 'Label'\n",
        "# Extract the target variable\n",
        "y = dataset[target_column]\n",
        "\n",
        "# Get unique classes in the target variable\n",
        "unique_classes = y.unique()\n",
        "print(\"Unique classes:\", unique_classes)\n",
        "\n",
        "# One-hot encode the target variable\n",
        "encoder = OneHotEncoder()\n",
        "y_encoded = encoder.fit_transform(y.values.reshape(-1, 1)).toarray()\n",
        "\n",
        "# Check the shape of the encoded labels\n",
        "print(\"Shape of encoded labels:\", y_encoded.shape)\n"
      ],
      "metadata": {
        "colab": {
          "base_uri": "https://localhost:8080/"
        },
        "id": "5Qml-rbfF8pu",
        "outputId": "d2768789-85d7-4ac2-bd6d-4e7b2e5cbeb7"
      },
      "execution_count": null,
      "outputs": [
        {
          "output_type": "stream",
          "name": "stdout",
          "text": [
            "Unique classes: [0 1]\n",
            "Shape of encoded labels: (5472, 2)\n"
          ]
        }
      ]
    },
    {
      "cell_type": "markdown",
      "source": [
        "##MODELING"
      ],
      "metadata": {
        "id": "5KDuJfDtVDvt"
      }
    },
    {
      "cell_type": "code",
      "source": [
        "import pandas as pd\n",
        "import numpy as np\n",
        "from sklearn.model_selection import train_test_split\n",
        "from sklearn.preprocessing import StandardScaler\n",
        "from sklearn.preprocessing import OneHotEncoder\n",
        "from tensorflow.keras.models import Sequential\n",
        "from tensorflow.keras.layers import Dense, LSTM, Concatenate\n",
        "from tensorflow.keras.utils import to_categorical\n",
        "\n",
        "# Load the preprocessed data\n",
        "data = pd.read_csv('processed_data.csv')\n",
        "\n",
        "# Define the features and target\n",
        "X = data.drop(columns=['Label'])  # Features\n",
        "y = data['Label']                # Target\n",
        "\n",
        "# Split the data into training and testing sets\n",
        "X_train, X_test, y_train, y_test = train_test_split(X, y, test_size=0.1, random_state=42)\n",
        "\n",
        "# Scale the features\n",
        "scaler = StandardScaler()\n",
        "X_train = scaler.fit_transform(X_train)\n",
        "X_test = scaler.transform(X_test)\n",
        "\n",
        "# Convert target labels to one-hot encoded format\n",
        "encoder = OneHotEncoder()\n",
        "y_train_encoded = encoder.fit_transform(y_train.values.reshape(-1, 1)).toarray()\n",
        "y_test_encoded = encoder.transform(y_test.values.reshape(-1, 1)).toarray()\n",
        "\n",
        "# Reshape data for LSTM input (assuming a 3D input shape)\n",
        "X_train_lstm = X_train.reshape((X_train.shape[0], 1, X_train.shape[1]))\n",
        "X_test_lstm = X_test.reshape((X_test.shape[0], 1, X_test.shape[1]))\n",
        "\n",
        "# Define your models\n",
        "model1 = Sequential()\n",
        "model1.add(Dense(16, activation='relu', input_shape=(X_train.shape[1],)))  # Adjust this as per your input shape\n",
        "\n",
        "model2 = Sequential()\n",
        "model2.add(LSTM(32, input_shape=(X_train_lstm.shape[1], X_train_lstm.shape[2]), return_sequences=True))  # Adjust this as per your input shape\n",
        "\n",
        "# Concatenate models or layers\n",
        "combined_model = Sequential()\n",
        "combined_model.add(Concatenate([model1, model2]))  # Adjust the input layers according to your model architecture\n",
        "combined_model.add(Dense(10, activation='softmax'))  # Add additional layers as needed\n",
        "\n",
        "\n",
        "# Define the architecture of your model\n",
        "model = Sequential()\n",
        "model.add(Dense(64, activation='relu', input_shape=(X_train.shape[1],)))  # Example dense layer\n",
        "model.add(Dense(32, activation='relu'))  # Additional dense layer if needed\n",
        "model.add(Dense(16, activation='relu'))  # Another dense layer if needed\n",
        "\n",
        "# Add the output layer based on the number of unique classes in your target variable\n",
        "unique_classes = len(np.unique(y_train))  # Replace with your target variable\n",
        "model.add(Dense(unique_classes, activation='softmax'))  # Output layer\n",
        "\n",
        "# Compile the model\n",
        "model.compile(optimizer='adam', loss='categorical_crossentropy', metrics=['accuracy'])\n",
        "\n",
        "# Train the model\n",
        "model.fit(X_train, y_train_encoded, epochs=10, batch_size=32, validation_data=(X_test, y_test_encoded))\n"
      ],
      "metadata": {
        "colab": {
          "base_uri": "https://localhost:8080/"
        },
        "id": "cy0ez-dOE3UF",
        "outputId": "49fc6c30-1341-4335-c36a-d931ddf87887"
      },
      "execution_count": null,
      "outputs": [
        {
          "output_type": "stream",
          "name": "stdout",
          "text": [
            "Epoch 1/10\n",
            "154/154 [==============================] - 1s 4ms/step - loss: 0.4341 - accuracy: 0.7644 - val_loss: 0.4303 - val_accuracy: 0.8157\n",
            "Epoch 2/10\n",
            "154/154 [==============================] - 0s 3ms/step - loss: 0.3513 - accuracy: 0.8178 - val_loss: 0.3561 - val_accuracy: 0.8321\n",
            "Epoch 3/10\n",
            "154/154 [==============================] - 0s 3ms/step - loss: 0.3278 - accuracy: 0.8320 - val_loss: 0.3624 - val_accuracy: 0.8230\n",
            "Epoch 4/10\n",
            "154/154 [==============================] - 0s 3ms/step - loss: 0.3145 - accuracy: 0.8345 - val_loss: 0.3368 - val_accuracy: 0.8285\n",
            "Epoch 5/10\n",
            "154/154 [==============================] - 0s 3ms/step - loss: 0.3011 - accuracy: 0.8408 - val_loss: 0.3299 - val_accuracy: 0.8412\n",
            "Epoch 6/10\n",
            "154/154 [==============================] - 0s 3ms/step - loss: 0.2897 - accuracy: 0.8457 - val_loss: 0.3493 - val_accuracy: 0.8558\n",
            "Epoch 7/10\n",
            "154/154 [==============================] - 0s 3ms/step - loss: 0.2831 - accuracy: 0.8503 - val_loss: 0.3902 - val_accuracy: 0.8339\n",
            "Epoch 8/10\n",
            "154/154 [==============================] - 0s 3ms/step - loss: 0.2785 - accuracy: 0.8587 - val_loss: 0.3470 - val_accuracy: 0.8668\n",
            "Epoch 9/10\n",
            "154/154 [==============================] - 1s 3ms/step - loss: 0.2711 - accuracy: 0.8609 - val_loss: 0.3609 - val_accuracy: 0.8577\n",
            "Epoch 10/10\n",
            "154/154 [==============================] - 1s 4ms/step - loss: 0.2679 - accuracy: 0.8615 - val_loss: 0.3492 - val_accuracy: 0.8522\n"
          ]
        },
        {
          "output_type": "execute_result",
          "data": {
            "text/plain": [
              "<keras.src.callbacks.History at 0x78ed7bc6b160>"
            ]
          },
          "metadata": {},
          "execution_count": 23
        }
      ]
    },
    {
      "cell_type": "code",
      "source": [
        "from tensorflow.keras.models import Model\n",
        "from tensorflow.keras.layers import Input, Dense, LSTM, Concatenate, Flatten\n",
        "\n",
        "# Define the architecture for the tabular data (Dense layers)\n",
        "input_dnn = Input(shape=(X_train.shape[1],))\n",
        "dense_layer1 = Dense(16, activation='relu')(input_dnn)\n",
        "dense_layer2 = Dense(8, activation='relu')(dense_layer1)  # Additional dense layers if needed\n",
        "\n",
        "# Define the architecture for the sequential data (LSTM layers)\n",
        "input_lstm = Input(shape=(X_train_lstm.shape[1], X_train_lstm.shape[2]))\n",
        "lstm_layer1 = LSTM(32, return_sequences=True)(input_lstm)\n",
        "lstm_layer2 = LSTM(16)(lstm_layer1)  # Additional LSTM layers if needed\n",
        "\n",
        "# Concatenate both branches (Dense and LSTM)\n",
        "concatenated = Concatenate()([Flatten()(dense_layer2), Flatten()(lstm_layer2)])\n",
        "\n",
        "# Dense layers after concatenation\n",
        "dense_combined = Dense(64, activation='relu')(concatenated)\n",
        "output = Dense(unique_classes, activation='softmax')(dense_combined)  # Output layer\n",
        "\n",
        "# Define the model\n",
        "hybrid_model = Model(inputs=[input_dnn, input_lstm], outputs=output)\n",
        "\n",
        "# Compile the model\n",
        "hybrid_model.compile(optimizer='adam', loss='categorical_crossentropy', metrics=['accuracy'])\n",
        "\n",
        "# Train the model\n",
        "hybrid_model.fit([X_train, X_train_lstm], y_train_encoded, epochs=10, batch_size=32, validation_data=([X_test, X_test_lstm], y_test_encoded))\n"
      ],
      "metadata": {
        "colab": {
          "base_uri": "https://localhost:8080/"
        },
        "id": "2QmgBBIoQSD6",
        "outputId": "457fc104-fb36-4cd0-8c9d-19051e31f664"
      },
      "execution_count": null,
      "outputs": [
        {
          "output_type": "stream",
          "name": "stdout",
          "text": [
            "Epoch 1/10\n",
            "154/154 [==============================] - 7s 15ms/step - loss: 0.5250 - accuracy: 0.7118 - val_loss: 0.3862 - val_accuracy: 0.8266\n",
            "Epoch 2/10\n",
            "154/154 [==============================] - 1s 6ms/step - loss: 0.3853 - accuracy: 0.8095 - val_loss: 0.3689 - val_accuracy: 0.8120\n",
            "Epoch 3/10\n",
            "154/154 [==============================] - 1s 6ms/step - loss: 0.3570 - accuracy: 0.8190 - val_loss: 0.3637 - val_accuracy: 0.8084\n",
            "Epoch 4/10\n",
            "154/154 [==============================] - 1s 6ms/step - loss: 0.3419 - accuracy: 0.8243 - val_loss: 0.3490 - val_accuracy: 0.8303\n",
            "Epoch 5/10\n",
            "154/154 [==============================] - 1s 6ms/step - loss: 0.3302 - accuracy: 0.8253 - val_loss: 0.3465 - val_accuracy: 0.8248\n",
            "Epoch 6/10\n",
            "154/154 [==============================] - 1s 7ms/step - loss: 0.3192 - accuracy: 0.8343 - val_loss: 0.3422 - val_accuracy: 0.8376\n",
            "Epoch 7/10\n",
            "154/154 [==============================] - 1s 9ms/step - loss: 0.3080 - accuracy: 0.8333 - val_loss: 0.3386 - val_accuracy: 0.8431\n",
            "Epoch 8/10\n",
            "154/154 [==============================] - 1s 9ms/step - loss: 0.3009 - accuracy: 0.8369 - val_loss: 0.3285 - val_accuracy: 0.8412\n",
            "Epoch 9/10\n",
            "154/154 [==============================] - 1s 9ms/step - loss: 0.2912 - accuracy: 0.8422 - val_loss: 0.3228 - val_accuracy: 0.8358\n",
            "Epoch 10/10\n",
            "154/154 [==============================] - 1s 6ms/step - loss: 0.2853 - accuracy: 0.8448 - val_loss: 0.3347 - val_accuracy: 0.8303\n"
          ]
        },
        {
          "output_type": "execute_result",
          "data": {
            "text/plain": [
              "<keras.src.callbacks.History at 0x78ed7bb45ff0>"
            ]
          },
          "metadata": {},
          "execution_count": 24
        }
      ]
    },
    {
      "cell_type": "markdown",
      "source": [
        "##EVALUATION\n"
      ],
      "metadata": {
        "id": "dcJAA3ieVLwR"
      }
    },
    {
      "cell_type": "code",
      "source": [
        "from sklearn.metrics import confusion_matrix, accuracy_score, precision_score, recall_score, f1_score, roc_auc_score, roc_curve\n",
        "import matplotlib.pyplot as plt\n",
        "\n",
        "# Assuming you have trained the hybrid_model, you can predict on test data\n",
        "y_pred_hybrid = hybrid_model.predict([X_test, X_test_lstm])\n",
        "y_pred_classes_hybrid = np.argmax(y_pred_hybrid, axis=1)  # Get the predicted classes\n",
        "\n",
        "# Compute evaluation metrics for the hybrid model\n",
        "cm_hybrid = confusion_matrix(np.argmax(y_test_encoded, axis=1), y_pred_classes_hybrid)\n",
        "acc_hybrid = accuracy_score(np.argmax(y_test_encoded, axis=1), y_pred_classes_hybrid)\n",
        "precision_hybrid = precision_score(np.argmax(y_test_encoded, axis=1), y_pred_classes_hybrid)\n",
        "recall_hybrid = recall_score(np.argmax(y_test_encoded, axis=1), y_pred_classes_hybrid)\n",
        "f1_hybrid = f1_score(np.argmax(y_test_encoded, axis=1), y_pred_classes_hybrid)\n",
        "auc_hybrid = roc_auc_score(y_test_encoded, y_pred_hybrid)\n",
        "\n",
        "# Print the metrics for the hybrid model\n",
        "print(\"Confusion Matrix (Hybrid Model):\")\n",
        "print(cm_hybrid)\n",
        "print(\"Accuracy (Hybrid Model):\", acc_hybrid)\n",
        "print(\"Precision (Hybrid Model):\", precision_hybrid)\n",
        "print(\"Recall (Hybrid Model):\", recall_hybrid)\n",
        "print(\"F1-score (Hybrid Model):\", f1_hybrid)\n",
        "print(\"AUC (Hybrid Model):\", auc_hybrid)\n",
        "\n",
        "# Plot ROC curve for the hybrid model\n",
        "fpr_hybrid, tpr_hybrid, _ = roc_curve(y_test_encoded.ravel(), y_pred_hybrid.ravel())\n",
        "plt.figure()\n",
        "plt.plot(fpr_hybrid, tpr_hybrid, label='ROC curve (area = %0.2f)' % auc_hybrid)\n",
        "plt.plot([0, 1], [0, 1], 'k--')\n",
        "plt.xlabel('False Positive Rate')\n",
        "plt.ylabel('True Positive Rate')\n",
        "plt.title('ROC Curve (Hybrid Model)')\n",
        "plt.legend(loc=\"lower right\")\n",
        "plt.show()\n"
      ],
      "metadata": {
        "colab": {
          "base_uri": "https://localhost:8080/",
          "height": 628
        },
        "id": "PC3_l8HpJUkE",
        "outputId": "2a4373e0-8f69-48a8-ddc6-18d46c37a5a9"
      },
      "execution_count": null,
      "outputs": [
        {
          "output_type": "stream",
          "name": "stdout",
          "text": [
            "18/18 [==============================] - 0s 2ms/step\n",
            "Confusion Matrix (Hybrid Model):\n",
            "[[163  29]\n",
            " [ 64 292]]\n",
            "Accuracy (Hybrid Model): 0.8302919708029197\n",
            "Precision (Hybrid Model): 0.9096573208722741\n",
            "Recall (Hybrid Model): 0.8202247191011236\n",
            "F1-score (Hybrid Model): 0.8626292466765141\n",
            "AUC (Hybrid Model): 0.9319259129213483\n"
          ]
        },
        {
          "output_type": "display_data",
          "data": {
            "text/plain": [
              "<Figure size 640x480 with 1 Axes>"
            ],
            "image/png": "[encoded data removed]"
          },
          "metadata": {}
        }
      ]
    },
    {
      "cell_type": "markdown",
      "source": [
        "The evaluation metrics from the confusion matrix of your hybrid model on the test data are quite promising:\n",
        "\n",
        "Accuracy (Hybrid Model): 83.02%\n",
        "\n",
        "Indicates the overall correctness of the predictions, which seems relatively good.\n",
        "Precision (Hybrid Model): 90.96%\n",
        "\n",
        "Represents the accuracy of positive predictions. A higher precision suggests that among all instances predicted as positive, a significant proportion are indeed positive.\n",
        "Recall (Hybrid Model): 82%\n",
        "\n",
        "Measures the model's ability to capture positive instances. It indicates that the model correctly identifies around 85.39% of all actual positive instances.\n",
        "F1-score (Hybrid Model): 86%\n",
        "\n",
        "Harmonic mean of precision and recall. This metric provides a balance between precision and recall.\n",
        "AUC (Hybrid Model): 93.19%\n",
        "\n",
        "Represents the area under the Receiver Operating Characteristic (ROC) curve. A higher AUC value (closer to 1) indicates better performance of the model in distinguishing between classes.\n",
        "Overall, these metrics suggest that the hybrid model is performing well on the test data. It exhibits a good balance between precision and recall, a high accuracy rate, and an excellent AUC score, indicating strong predictive performance."
      ],
      "metadata": {
        "id": "zTPOFB1kRf6W"
      }
    }
  ]
}